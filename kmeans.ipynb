{
 "cells": [
  {
   "cell_type": "code",
   "execution_count": 1,
   "metadata": {},
   "outputs": [],
   "source": [
    "import io\n",
    "import math\n",
    "\n",
    "import ipywidgets\n",
    "import IPython\n",
    "from IPython.display import display\n",
    "\n",
    "import numpy\n",
    "from scipy.cluster.vq import kmeans, whiten, vq\n",
    "\n",
    "import matplotlib.pyplot as plt"
   ]
  },
  {
   "cell_type": "code",
   "execution_count": 2,
   "metadata": {},
   "outputs": [],
   "source": [
    "def run(upload, k, xaxis, yaxis, csv_delimiter=','):\n",
    "    \"\"\"Given the input arguments, run k-means and display the output\"\"\"\n",
    "    if upload:\n",
    "        name = next(iter(upload))\n",
    "        upload = upload[name]\n",
    "        content = upload['content']\n",
    "        data = numpy.loadtxt(io.StringIO(content.decode()), delimiter=csv_delimiter)\n",
    "    else:\n",
    "        print(\"Using default iris.csv\")\n",
    "        data = numpy.loadtxt('iris.csv', delimiter=csv_delimiter)\n",
    "        \n",
    "    \n",
    "    \n",
    "    print(\"The data has %s rows and %s columns\"%data.shape)\n",
    "    # TODO: how can I refer to arguments without specifying by position?\n",
    "    w.children[2].max = data.shape[1]-1\n",
    "    w.children[3].max = data.shape[1]-1\n",
    "    \n",
    "    print(\"Detecting with k=%s\"%k)\n",
    "\n",
    "    book, distortion = kmeans(whiten(data), k)\n",
    "    book, distortion\n",
    "    codes, distances = vq(whiten(data), book)\n",
    "\n",
    "    plt.figure(figsize=(10, 8))\n",
    "    plt.scatter(\n",
    "        data[:,xaxis], \n",
    "        data[:,yaxis], \n",
    "        c=codes,\n",
    "        s=100*150/data.shape[0])\n",
    "    plt.xlabel(\"%sth axis\"%xaxis, size=24)\n",
    "    plt.ylabel(\"%sth axis\"%yaxis, size=24)\n",
    "    plt.show()\n",
    "\n",
    "    #print(\"The raw data is:\")\n",
    "    #display(data)"
   ]
  },
  {
   "cell_type": "code",
   "execution_count": 3,
   "metadata": {
    "scrolled": false
   },
   "outputs": [
    {
     "data": {
      "application/vnd.jupyter.widget-view+json": {
       "model_id": "c5e06e7dcd8c41ce990cd9524045c238",
       "version_major": 2,
       "version_minor": 0
      },
      "text/plain": [
       "interactive(children=(FileUpload(value={}, description='Upload'), IntSlider(value=3, description='k', max=10, …"
      ]
     },
     "metadata": {},
     "output_type": "display_data"
    }
   ],
   "source": [
    "w = ipywidgets.interactive(\n",
    "    run,\n",
    "    upload=ipywidgets.FileUpload(multiple=False),\n",
    "    k=ipywidgets.IntSlider(value=3, min=1, max=10),\n",
    "    xaxis=ipywidgets.IntSlider(value=0, min=0, max=10),\n",
    "    yaxis=ipywidgets.IntSlider(value=1, min=0, max=10))\n",
    "\n",
    "w.layout.height = '1000px'\n",
    "display(w)"
   ]
  },
  {
   "cell_type": "code",
   "execution_count": null,
   "metadata": {},
   "outputs": [],
   "source": []
  }
 ],
 "metadata": {
  "kernelspec": {
   "display_name": "Python 3",
   "language": "python",
   "name": "python3"
  },
  "language_info": {
   "codemirror_mode": {
    "name": "ipython",
    "version": 3
   },
   "file_extension": ".py",
   "mimetype": "text/x-python",
   "name": "python",
   "nbconvert_exporter": "python",
   "pygments_lexer": "ipython3",
   "version": "3.7.3"
  }
 },
 "nbformat": 4,
 "nbformat_minor": 4
}
