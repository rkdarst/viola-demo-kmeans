{
 "cells": [
  {
   "cell_type": "code",
   "execution_count": 16,
   "metadata": {},
   "outputs": [],
   "source": [
    "import ipywidgets"
   ]
  },
  {
   "cell_type": "code",
   "execution_count": 17,
   "metadata": {},
   "outputs": [
    {
     "data": {
      "application/vnd.jupyter.widget-view+json": {
       "model_id": "dc01ecf1f3eb49e7a84fa2d15e3f1d91",
       "version_major": 2,
       "version_minor": 0
      },
      "text/plain": [
       "FileUpload(value={}, description='Upload')"
      ]
     },
     "metadata": {},
     "output_type": "display_data"
    }
   ],
   "source": [
    "uploader = ipywidgets.FileUpload(multiple=False)\n",
    "uploader"
   ]
  },
  {
   "cell_type": "code",
   "execution_count": 29,
   "metadata": {},
   "outputs": [
    {
     "data": {
      "text/plain": [
       "{'iris.csv': {'metadata': {'name': 'iris.csv',\n",
       "   'type': 'text/csv',\n",
       "   'size': 2400,\n",
       "   'lastModified': 1608039283681},\n",
       "  'content': b'5.1,3.5,1.4,0.2\\n4.9,3.0,1.4,0.2\\n4.7,3.2,1.3,0.2\\n4.6,3.1,1.5,0.2\\n5.0,3.6,1.4,0.2\\n5.4,3.9,1.7,0.4\\n4.6,3.4,1.4,0.3\\n5.0,3.4,1.5,0.2\\n4.4,2.9,1.4,0.2\\n4.9,3.1,1.5,0.1\\n5.4,3.7,1.5,0.2\\n4.8,3.4,1.6,0.2\\n4.8,3.0,1.4,0.1\\n4.3,3.0,1.1,0.1\\n5.8,4.0,1.2,0.2\\n5.7,4.4,1.5,0.4\\n5.4,3.9,1.3,0.4\\n5.1,3.5,1.4,0.3\\n5.7,3.8,1.7,0.3\\n5.1,3.8,1.5,0.3\\n5.4,3.4,1.7,0.2\\n5.1,3.7,1.5,0.4\\n4.6,3.6,1.0,0.2\\n5.1,3.3,1.7,0.5\\n4.8,3.4,1.9,0.2\\n5.0,3.0,1.6,0.2\\n5.0,3.4,1.6,0.4\\n5.2,3.5,1.5,0.2\\n5.2,3.4,1.4,0.2\\n4.7,3.2,1.6,0.2\\n4.8,3.1,1.6,0.2\\n5.4,3.4,1.5,0.4\\n5.2,4.1,1.5,0.1\\n5.5,4.2,1.4,0.2\\n4.9,3.1,1.5,0.1\\n5.0,3.2,1.2,0.2\\n5.5,3.5,1.3,0.2\\n4.9,3.1,1.5,0.1\\n4.4,3.0,1.3,0.2\\n5.1,3.4,1.5,0.2\\n5.0,3.5,1.3,0.3\\n4.5,2.3,1.3,0.3\\n4.4,3.2,1.3,0.2\\n5.0,3.5,1.6,0.6\\n5.1,3.8,1.9,0.4\\n4.8,3.0,1.4,0.3\\n5.1,3.8,1.6,0.2\\n4.6,3.2,1.4,0.2\\n5.3,3.7,1.5,0.2\\n5.0,3.3,1.4,0.2\\n7.0,3.2,4.7,1.4\\n6.4,3.2,4.5,1.5\\n6.9,3.1,4.9,1.5\\n5.5,2.3,4.0,1.3\\n6.5,2.8,4.6,1.5\\n5.7,2.8,4.5,1.3\\n6.3,3.3,4.7,1.6\\n4.9,2.4,3.3,1.0\\n6.6,2.9,4.6,1.3\\n5.2,2.7,3.9,1.4\\n5.0,2.0,3.5,1.0\\n5.9,3.0,4.2,1.5\\n6.0,2.2,4.0,1.0\\n6.1,2.9,4.7,1.4\\n5.6,2.9,3.6,1.3\\n6.7,3.1,4.4,1.4\\n5.6,3.0,4.5,1.5\\n5.8,2.7,4.1,1.0\\n6.2,2.2,4.5,1.5\\n5.6,2.5,3.9,1.1\\n5.9,3.2,4.8,1.8\\n6.1,2.8,4.0,1.3\\n6.3,2.5,4.9,1.5\\n6.1,2.8,4.7,1.2\\n6.4,2.9,4.3,1.3\\n6.6,3.0,4.4,1.4\\n6.8,2.8,4.8,1.4\\n6.7,3.0,5.0,1.7\\n6.0,2.9,4.5,1.5\\n5.7,2.6,3.5,1.0\\n5.5,2.4,3.8,1.1\\n5.5,2.4,3.7,1.0\\n5.8,2.7,3.9,1.2\\n6.0,2.7,5.1,1.6\\n5.4,3.0,4.5,1.5\\n6.0,3.4,4.5,1.6\\n6.7,3.1,4.7,1.5\\n6.3,2.3,4.4,1.3\\n5.6,3.0,4.1,1.3\\n5.5,2.5,4.0,1.3\\n5.5,2.6,4.4,1.2\\n6.1,3.0,4.6,1.4\\n5.8,2.6,4.0,1.2\\n5.0,2.3,3.3,1.0\\n5.6,2.7,4.2,1.3\\n5.7,3.0,4.2,1.2\\n5.7,2.9,4.2,1.3\\n6.2,2.9,4.3,1.3\\n5.1,2.5,3.0,1.1\\n5.7,2.8,4.1,1.3\\n6.3,3.3,6.0,2.5\\n5.8,2.7,5.1,1.9\\n7.1,3.0,5.9,2.1\\n6.3,2.9,5.6,1.8\\n6.5,3.0,5.8,2.2\\n7.6,3.0,6.6,2.1\\n4.9,2.5,4.5,1.7\\n7.3,2.9,6.3,1.8\\n6.7,2.5,5.8,1.8\\n7.2,3.6,6.1,2.5\\n6.5,3.2,5.1,2.0\\n6.4,2.7,5.3,1.9\\n6.8,3.0,5.5,2.1\\n5.7,2.5,5.0,2.0\\n5.8,2.8,5.1,2.4\\n6.4,3.2,5.3,2.3\\n6.5,3.0,5.5,1.8\\n7.7,3.8,6.7,2.2\\n7.7,2.6,6.9,2.3\\n6.0,2.2,5.0,1.5\\n6.9,3.2,5.7,2.3\\n5.6,2.8,4.9,2.0\\n7.7,2.8,6.7,2.0\\n6.3,2.7,4.9,1.8\\n6.7,3.3,5.7,2.1\\n7.2,3.2,6.0,1.8\\n6.2,2.8,4.8,1.8\\n6.1,3.0,4.9,1.8\\n6.4,2.8,5.6,2.1\\n7.2,3.0,5.8,1.6\\n7.4,2.8,6.1,1.9\\n7.9,3.8,6.4,2.0\\n6.4,2.8,5.6,2.2\\n6.3,2.8,5.1,1.5\\n6.1,2.6,5.6,1.4\\n7.7,3.0,6.1,2.3\\n6.3,3.4,5.6,2.4\\n6.4,3.1,5.5,1.8\\n6.0,3.0,4.8,1.8\\n6.9,3.1,5.4,2.1\\n6.7,3.1,5.6,2.4\\n6.9,3.1,5.1,2.3\\n5.8,2.7,5.1,1.9\\n6.8,3.2,5.9,2.3\\n6.7,3.3,5.7,2.5\\n6.7,3.0,5.2,2.3\\n6.3,2.5,5.0,1.9\\n6.5,3.0,5.2,2.0\\n6.2,3.4,5.4,2.3\\n5.9,3.0,5.1,1.8\\n'}}"
      ]
     },
     "execution_count": 29,
     "metadata": {},
     "output_type": "execute_result"
    }
   ],
   "source": [
    "uploader.value"
   ]
  },
  {
   "cell_type": "code",
   "execution_count": 30,
   "metadata": {},
   "outputs": [],
   "source": [
    "has_data = False\n",
    "if uploader.value:\n",
    "    name = next(iter(uploader.value))\n",
    "    upload = uploader.value[name]\n",
    "    has_data = True"
   ]
  },
  {
   "cell_type": "code",
   "execution_count": 31,
   "metadata": {},
   "outputs": [],
   "source": [
    "#upload['content']"
   ]
  },
  {
   "cell_type": "code",
   "execution_count": 32,
   "metadata": {},
   "outputs": [],
   "source": [
    "import io\n",
    "import numpy"
   ]
  },
  {
   "cell_type": "code",
   "execution_count": 33,
   "metadata": {},
   "outputs": [],
   "source": [
    "if has_data:\n",
    "    data = numpy.loadtxt(io.StringIO(upload['content'].decode()), delimiter=',')"
   ]
  },
  {
   "cell_type": "code",
   "execution_count": 34,
   "metadata": {},
   "outputs": [
    {
     "data": {
      "application/vnd.jupyter.widget-view+json": {
       "model_id": "140cc60f51904e7f93fd59a0c5ba71c5",
       "version_major": 2,
       "version_minor": 0
      },
      "text/plain": [
       "IntSlider(value=3, max=10, min=1)"
      ]
     },
     "metadata": {},
     "output_type": "display_data"
    }
   ],
   "source": [
    "k = ipywidgets.IntSlider(value=3, min=1, max=10)\n",
    "k"
   ]
  },
  {
   "cell_type": "code",
   "execution_count": 35,
   "metadata": {},
   "outputs": [
    {
     "name": "stdout",
     "output_type": "stream",
     "text": [
      "Detecting with k=3\n"
     ]
    }
   ],
   "source": [
    "print(\"Detecting with k=%s\"%k.value)"
   ]
  },
  {
   "cell_type": "code",
   "execution_count": 36,
   "metadata": {},
   "outputs": [],
   "source": [
    "from scipy.cluster.vq import kmeans, whiten, vq"
   ]
  },
  {
   "cell_type": "code",
   "execution_count": 37,
   "metadata": {},
   "outputs": [],
   "source": [
    "if has_data:\n",
    "    book, distortion = kmeans(whiten(data), k.value)\n",
    "    book, distortion"
   ]
  },
  {
   "cell_type": "code",
   "execution_count": 38,
   "metadata": {},
   "outputs": [],
   "source": [
    "if has_data:\n",
    "    codes, distances = vq(whiten(data), book)"
   ]
  },
  {
   "cell_type": "code",
   "execution_count": null,
   "metadata": {},
   "outputs": [],
   "source": [
    "if has_data:\n",
    "    import matplotlib.pyplot as plt"
   ]
  },
  {
   "cell_type": "code",
   "execution_count": 46,
   "metadata": {},
   "outputs": [
    {
     "data": {
      "application/vnd.jupyter.widget-view+json": {
       "model_id": "0f353ef8c22546fe9660e7e4c582de06",
       "version_major": 2,
       "version_minor": 0
      },
      "text/plain": [
       "IntSlider(value=0, max=150)"
      ]
     },
     "metadata": {},
     "output_type": "display_data"
    },
    {
     "name": "stdout",
     "output_type": "stream",
     "text": [
      "IntSlider(value=0, max=150)\n"
     ]
    }
   ],
   "source": [
    "import IPython\n",
    "if has_data:\n",
    "    xaxis = ipywidgets.IntSlider(value=0, min=0, max=data.shape[0])\n",
    "    IPython.display.display(xaxis)\n",
    "    print(xaxis)"
   ]
  },
  {
   "cell_type": "code",
   "execution_count": null,
   "metadata": {},
   "outputs": [],
   "source": [
    "    yaxis = ipywidgets.IntSlider(value=1, min=0, max=data.shape[0]).value"
   ]
  },
  {
   "cell_type": "code",
   "execution_count": 39,
   "metadata": {},
   "outputs": [
    {
     "data": {
      "image/png": "[encoded data removed]",
      "text/plain": [
       "<Figure size 432x288 with 1 Axes>"
      ]
     },
     "metadata": {
      "needs_background": "light"
     },
     "output_type": "display_data"
    }
   ],
   "source": [
    "    plt.scatter(data[:,xaxis], data[:,yaxis], c=codes)"
   ]
  },
  {
   "cell_type": "code",
   "execution_count": null,
   "metadata": {},
   "outputs": [],
   "source": []
  },
  {
   "cell_type": "code",
   "execution_count": null,
   "metadata": {},
   "outputs": [],
   "source": []
  }
 ],
 "metadata": {
  "kernelspec": {
   "display_name": "Python 3",
   "language": "python",
   "name": "python3"
  },
  "language_info": {
   "codemirror_mode": {
    "name": "ipython",
    "version": 3
   },
   "file_extension": ".py",
   "mimetype": "text/x-python",
   "name": "python",
   "nbconvert_exporter": "python",
   "pygments_lexer": "ipython3",
   "version": "3.7.3"
  }
 },
 "nbformat": 4,
 "nbformat_minor": 4
}
